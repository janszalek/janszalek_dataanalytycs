{
 "cells": [
  {
   "attachments": {},
   "cell_type": "markdown",
   "metadata": {},
   "source": [
    "## Prior and Posterior predictive distributions"
   ]
  },
  {
   "cell_type": "code",
   "execution_count": 16,
   "metadata": {},
   "outputs": [
    {
     "name": "stderr",
     "output_type": "stream",
     "text": [
      "INFO:cmdstanpy:compiling stan file /home/lab3/model_prior.stan to exe file /home/lab3/model_prior\n",
      "INFO:cmdstanpy:compiled model executable: /home/lab3/model_prior\n",
      "INFO:cmdstanpy:CmdStan start processing\n",
      "chain 1 |\u001b[34m██████████\u001b[0m| 00:00 Sampling completed"
     ]
    },
    {
     "name": "stdout",
     "output_type": "stream",
     "text": [
      "                                                                                "
     ]
    },
    {
     "name": "stderr",
     "output_type": "stream",
     "text": [
      "\n",
      "INFO:cmdstanpy:CmdStan done processing.\n"
     ]
    },
    {
     "name": "stdout",
     "output_type": "stream",
     "text": [
      "\n"
     ]
    }
   ],
   "source": [
    "from cmdstanpy import CmdStanModel\n",
    "import pandas as pd\n",
    "import arviz as az \n",
    "import numpy as np\n",
    "import matplotlib.pyplot as plt\n",
    "prior=CmdStanModel(stan_file='model_prior.stan')\n",
    "stan_samples = prior.sample(fixed_param=True, iter_sampling=1000)\n"
   ]
  },
  {
   "cell_type": "code",
   "execution_count": 17,
   "metadata": {},
   "outputs": [
    {
     "data": {
      "image/png": "[encoded data removed]",
      "text/plain": [
       "<Figure size 432x288 with 1 Axes>"
      ]
     },
     "metadata": {
      "needs_background": "light"
     },
     "output_type": "display_data"
    }
   ],
   "source": [
    "df = stan_samples.draws_pd()\n",
    "ratio = df[\"y\"]/df[\"N\"]\n",
    "ratio.plot.hist(bins = 25)\n",
    "plt.title(\"Histogram\")\n",
    "plt.show()"
   ]
  },
  {
   "cell_type": "code",
   "execution_count": 18,
   "metadata": {},
   "outputs": [
    {
     "data": {
      "text/plain": [
       "0.19486000000000003"
      ]
     },
     "execution_count": 18,
     "metadata": {},
     "output_type": "execute_result"
    }
   ],
   "source": [
    "ratio.mean()"
   ]
  },
  {
   "attachments": {},
   "cell_type": "markdown",
   "metadata": {},
   "source": [
    "Calculated mean of a ratio is consistent with prior knowledge. The difference is around 0.05 percentage point.\n"
   ]
  },
  {
   "attachments": {},
   "cell_type": "markdown",
   "metadata": {},
   "source": [
    "## Modeling posterior and posterior predictive distribution\n"
   ]
  },
  {
   "cell_type": "code",
   "execution_count": 36,
   "metadata": {},
   "outputs": [
    {
     "name": "stderr",
     "output_type": "stream",
     "text": [
      "INFO:cmdstanpy:found newer exe file, not recompiling\n",
      "INFO:cmdstanpy:CmdStan start processing\n",
      "chain 1 |\u001b[33m          \u001b[0m| 00:00 Status\n",
      "\u001b[A\n",
      "\n",
      "chain 1 |\u001b[33m▍         \u001b[0m| 00:00 Status\n",
      "\u001b[A\n",
      "\n",
      "chain 1 |\u001b[34m██████████\u001b[0m| 00:00 Sampling completed\n",
      "chain 2 |\u001b[34m██████████\u001b[0m| 00:00 Sampling completed                     \n",
      "chain 3 |\u001b[34m██████████\u001b[0m| 00:00 Sampling completed\n",
      "chain 4 |\u001b[34m██████████\u001b[0m| 00:00 Sampling completed                     "
     ]
    },
    {
     "name": "stdout",
     "output_type": "stream",
     "text": [
      "                                                                                                                                                                                                                                                                                                                                "
     ]
    },
    {
     "name": "stderr",
     "output_type": "stream",
     "text": [
      "\n",
      "INFO:cmdstanpy:CmdStan done processing.\n"
     ]
    },
    {
     "name": "stdout",
     "output_type": "stream",
     "text": [
      "\n"
     ]
    },
    {
     "data": {
      "text/html": [
       "<div>\n",
       "<style scoped>\n",
       "    .dataframe tbody tr th:only-of-type {\n",
       "        vertical-align: middle;\n",
       "    }\n",
       "\n",
       "    .dataframe tbody tr th {\n",
       "        vertical-align: top;\n",
       "    }\n",
       "\n",
       "    .dataframe thead th {\n",
       "        text-align: right;\n",
       "    }\n",
       "</style>\n",
       "<table border=\"1\" class=\"dataframe\">\n",
       "  <thead>\n",
       "    <tr style=\"text-align: right;\">\n",
       "      <th></th>\n",
       "      <th>lp__</th>\n",
       "      <th>accept_stat__</th>\n",
       "      <th>stepsize__</th>\n",
       "      <th>treedepth__</th>\n",
       "      <th>n_leapfrog__</th>\n",
       "      <th>divergent__</th>\n",
       "      <th>energy__</th>\n",
       "      <th>p</th>\n",
       "      <th>y_pred</th>\n",
       "    </tr>\n",
       "  </thead>\n",
       "  <tbody>\n",
       "    <tr>\n",
       "      <th>0</th>\n",
       "      <td>-47.7117</td>\n",
       "      <td>0.605465</td>\n",
       "      <td>1.067110</td>\n",
       "      <td>1.0</td>\n",
       "      <td>3.0</td>\n",
       "      <td>0.0</td>\n",
       "      <td>48.5098</td>\n",
       "      <td>0.256079</td>\n",
       "      <td>13.0</td>\n",
       "    </tr>\n",
       "    <tr>\n",
       "      <th>1</th>\n",
       "      <td>-45.6532</td>\n",
       "      <td>0.992107</td>\n",
       "      <td>1.067110</td>\n",
       "      <td>1.0</td>\n",
       "      <td>3.0</td>\n",
       "      <td>0.0</td>\n",
       "      <td>47.6590</td>\n",
       "      <td>0.156790</td>\n",
       "      <td>8.0</td>\n",
       "    </tr>\n",
       "    <tr>\n",
       "      <th>2</th>\n",
       "      <td>-45.6388</td>\n",
       "      <td>0.867804</td>\n",
       "      <td>1.067110</td>\n",
       "      <td>2.0</td>\n",
       "      <td>3.0</td>\n",
       "      <td>0.0</td>\n",
       "      <td>46.4950</td>\n",
       "      <td>0.182112</td>\n",
       "      <td>8.0</td>\n",
       "    </tr>\n",
       "    <tr>\n",
       "      <th>3</th>\n",
       "      <td>-45.7120</td>\n",
       "      <td>0.978372</td>\n",
       "      <td>1.067110</td>\n",
       "      <td>1.0</td>\n",
       "      <td>1.0</td>\n",
       "      <td>0.0</td>\n",
       "      <td>45.7174</td>\n",
       "      <td>0.189196</td>\n",
       "      <td>8.0</td>\n",
       "    </tr>\n",
       "    <tr>\n",
       "      <th>4</th>\n",
       "      <td>-45.7120</td>\n",
       "      <td>0.761542</td>\n",
       "      <td>1.067110</td>\n",
       "      <td>1.0</td>\n",
       "      <td>3.0</td>\n",
       "      <td>0.0</td>\n",
       "      <td>46.4981</td>\n",
       "      <td>0.189196</td>\n",
       "      <td>8.0</td>\n",
       "    </tr>\n",
       "    <tr>\n",
       "      <th>...</th>\n",
       "      <td>...</td>\n",
       "      <td>...</td>\n",
       "      <td>...</td>\n",
       "      <td>...</td>\n",
       "      <td>...</td>\n",
       "      <td>...</td>\n",
       "      <td>...</td>\n",
       "      <td>...</td>\n",
       "      <td>...</td>\n",
       "    </tr>\n",
       "    <tr>\n",
       "      <th>3995</th>\n",
       "      <td>-45.5902</td>\n",
       "      <td>0.991876</td>\n",
       "      <td>0.950099</td>\n",
       "      <td>1.0</td>\n",
       "      <td>3.0</td>\n",
       "      <td>0.0</td>\n",
       "      <td>46.6968</td>\n",
       "      <td>0.167871</td>\n",
       "      <td>7.0</td>\n",
       "    </tr>\n",
       "    <tr>\n",
       "      <th>3996</th>\n",
       "      <td>-46.0793</td>\n",
       "      <td>0.926534</td>\n",
       "      <td>0.950099</td>\n",
       "      <td>2.0</td>\n",
       "      <td>3.0</td>\n",
       "      <td>0.0</td>\n",
       "      <td>46.1707</td>\n",
       "      <td>0.135002</td>\n",
       "      <td>7.0</td>\n",
       "    </tr>\n",
       "    <tr>\n",
       "      <th>3997</th>\n",
       "      <td>-46.3026</td>\n",
       "      <td>0.956101</td>\n",
       "      <td>0.950099</td>\n",
       "      <td>1.0</td>\n",
       "      <td>1.0</td>\n",
       "      <td>0.0</td>\n",
       "      <td>46.3577</td>\n",
       "      <td>0.128344</td>\n",
       "      <td>9.0</td>\n",
       "    </tr>\n",
       "    <tr>\n",
       "      <th>3998</th>\n",
       "      <td>-45.8995</td>\n",
       "      <td>1.000000</td>\n",
       "      <td>0.950099</td>\n",
       "      <td>2.0</td>\n",
       "      <td>3.0</td>\n",
       "      <td>0.0</td>\n",
       "      <td>46.2261</td>\n",
       "      <td>0.141775</td>\n",
       "      <td>7.0</td>\n",
       "    </tr>\n",
       "    <tr>\n",
       "      <th>3999</th>\n",
       "      <td>-45.5942</td>\n",
       "      <td>0.785548</td>\n",
       "      <td>0.950099</td>\n",
       "      <td>2.0</td>\n",
       "      <td>3.0</td>\n",
       "      <td>0.0</td>\n",
       "      <td>48.1563</td>\n",
       "      <td>0.173980</td>\n",
       "      <td>2.0</td>\n",
       "    </tr>\n",
       "  </tbody>\n",
       "</table>\n",
       "<p>4000 rows × 9 columns</p>\n",
       "</div>"
      ],
      "text/plain": [
       "         lp__  accept_stat__  stepsize__  treedepth__  n_leapfrog__  \\\n",
       "0    -47.7117       0.605465    1.067110          1.0           3.0   \n",
       "1    -45.6532       0.992107    1.067110          1.0           3.0   \n",
       "2    -45.6388       0.867804    1.067110          2.0           3.0   \n",
       "3    -45.7120       0.978372    1.067110          1.0           1.0   \n",
       "4    -45.7120       0.761542    1.067110          1.0           3.0   \n",
       "...       ...            ...         ...          ...           ...   \n",
       "3995 -45.5902       0.991876    0.950099          1.0           3.0   \n",
       "3996 -46.0793       0.926534    0.950099          2.0           3.0   \n",
       "3997 -46.3026       0.956101    0.950099          1.0           1.0   \n",
       "3998 -45.8995       1.000000    0.950099          2.0           3.0   \n",
       "3999 -45.5942       0.785548    0.950099          2.0           3.0   \n",
       "\n",
       "      divergent__  energy__         p  y_pred  \n",
       "0             0.0   48.5098  0.256079    13.0  \n",
       "1             0.0   47.6590  0.156790     8.0  \n",
       "2             0.0   46.4950  0.182112     8.0  \n",
       "3             0.0   45.7174  0.189196     8.0  \n",
       "4             0.0   46.4981  0.189196     8.0  \n",
       "...           ...       ...       ...     ...  \n",
       "3995          0.0   46.6968  0.167871     7.0  \n",
       "3996          0.0   46.1707  0.135002     7.0  \n",
       "3997          0.0   46.3577  0.128344     9.0  \n",
       "3998          0.0   46.2261  0.141775     7.0  \n",
       "3999          0.0   48.1563  0.173980     2.0  \n",
       "\n",
       "[4000 rows x 9 columns]"
      ]
     },
     "execution_count": 36,
     "metadata": {},
     "output_type": "execute_result"
    }
   ],
   "source": [
    "post=CmdStanModel(stan_file='model_post.stan')\n",
    "samples = post.sample(data={\"N\":50, \"y\":7})\n",
    "df2 = samples.draws_pd()\n",
    "df2"
   ]
  },
  {
   "cell_type": "code",
   "execution_count": 30,
   "metadata": {},
   "outputs": [
    {
     "data": {
      "image/png": "[encoded data removed]",
      "text/plain": [
       "<Figure size 432x288 with 1 Axes>"
      ]
     },
     "metadata": {
      "needs_background": "light"
     },
     "output_type": "display_data"
    }
   ],
   "source": [
    "ratio2 = df2[\"y_pred\"]/50\n",
    "ratio2.plot.hist(bins = 20)\n",
    "plt.title(\"Histogram\")\n",
    "plt.show()"
   ]
  },
  {
   "cell_type": "code",
   "execution_count": 38,
   "metadata": {},
   "outputs": [
    {
     "name": "stdout",
     "output_type": "stream",
     "text": [
      "Expected value of p: 0.171\n",
      "94% HDI of p: [0.107, 0.243]\n",
      "Expected value of predicted ratio: 0.170\n",
      "94% HDI of predicted ratio: [0.060, 0.280]\n"
     ]
    }
   ],
   "source": [
    "import arviz as az\n",
    "mean_y_pred = ratio2.mean()\n",
    "density_y_pred = az.hdi(np.array(ratio2), hdi_prob=0.94)\n",
    "ratio3 = df2[\"p\"]\n",
    "mean_p = ratio3.mean()\n",
    "density_p = az.hdi(np.array(ratio3), hdi_prob=0.94)\n",
    "\n",
    "print(f\"Expected value of p: {mean_p:.3f}\")\n",
    "print(f\"94% HDI of p: [{density_p[0]:.3f}, {density_p[1]:.3f}]\")\n",
    "print(f\"Expected value of predicted ratio: {mean_y_pred:.3f}\")\n",
    "print(f\"94% HDI of predicted ratio: [{density_y_pred[0]:.3f}, {density_y_pred[1]:.3f}]\")\n"
   ]
  },
  {
   "cell_type": "code",
   "execution_count": 43,
   "metadata": {},
   "outputs": [
    {
     "name": "stdout",
     "output_type": "stream",
     "text": [
      "probailty=0.64\n"
     ]
    }
   ],
   "source": [
    "prob_ratio_lower_p_avg = (ratio2 < 0.2).mean()\n",
    "print(\"probailty={0}\".format(prob_ratio_lower_p_avg))"
   ]
  },
  {
   "cell_type": "code",
   "execution_count": null,
   "metadata": {},
   "outputs": [],
   "source": []
  }
 ],
 "metadata": {
  "kernelspec": {
   "display_name": "Python 3",
   "language": "python",
   "name": "python3"
  },
  "language_info": {
   "codemirror_mode": {
    "name": "ipython",
    "version": 3
   },
   "file_extension": ".py",
   "mimetype": "text/x-python",
   "name": "python",
   "nbconvert_exporter": "python",
   "pygments_lexer": "ipython3",
   "version": "3.9.11"
  },
  "orig_nbformat": 4
 },
 "nbformat": 4,
 "nbformat_minor": 2
}
