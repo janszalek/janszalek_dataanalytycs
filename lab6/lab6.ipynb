{
 "cells": [
  {
   "cell_type": "code",
   "execution_count": 18,
   "metadata": {},
   "outputs": [],
   "source": [
    "from cmdstanpy import CmdStanModel\n",
    "import arviz as az\n",
    "import numpy as np\n",
    "import scipy.stats as stats\n",
    "import matplotlib.pyplot as plt\n",
    "import pandas as pd"
   ]
  },
  {
   "attachments": {},
   "cell_type": "markdown",
   "metadata": {},
   "source": [
    "## EX 1"
   ]
  },
  {
   "cell_type": "code",
   "execution_count": 19,
   "metadata": {},
   "outputs": [],
   "source": [
    "F = 'Jan'\n",
    "L = \"Szałek\"\n",
    "N = (len(L)+len(F))*100"
   ]
  },
  {
   "cell_type": "code",
   "execution_count": 20,
   "metadata": {},
   "outputs": [
    {
     "name": "stderr",
     "output_type": "stream",
     "text": [
      "INFO:cmdstanpy:found newer exe file, not recompiling\n"
     ]
    },
    {
     "name": "stderr",
     "output_type": "stream",
     "text": [
      "INFO:cmdstanpy:CmdStan start processing\n",
      "chain 1 |\u001b[34m██████████\u001b[0m| 00:00 Sampling completed"
     ]
    },
    {
     "name": "stdout",
     "output_type": "stream",
     "text": [
      "                                                                                "
     ]
    },
    {
     "name": "stderr",
     "output_type": "stream",
     "text": [
      "\n",
      "INFO:cmdstanpy:CmdStan done processing.\n",
      "INFO:cmdstanpy:found newer exe file, not recompiling\n"
     ]
    },
    {
     "name": "stdout",
     "output_type": "stream",
     "text": [
      "\n"
     ]
    },
    {
     "name": "stderr",
     "output_type": "stream",
     "text": [
      "INFO:cmdstanpy:CmdStan start processing\n",
      "chain 1 |\u001b[34m██████████\u001b[0m| 00:00 Sampling completed"
     ]
    },
    {
     "name": "stdout",
     "output_type": "stream",
     "text": [
      "                                                                                "
     ]
    },
    {
     "name": "stderr",
     "output_type": "stream",
     "text": [
      "\n",
      "INFO:cmdstanpy:CmdStan done processing.\n"
     ]
    },
    {
     "name": "stdout",
     "output_type": "stream",
     "text": [
      "\n"
     ]
    }
   ],
   "source": [
    "model_1=CmdStanModel(stan_file='code_1.stan')\n",
    "sim_1=model_1.sample(data={'N': N}, \n",
    "                     iter_sampling=1, \n",
    "                     iter_warmup=0, \n",
    "                     chains=1, \n",
    "                     refresh=1,\n",
    "                     fixed_param=True,\n",
    "                     seed=29042020)\n",
    "df1 = sim_1.draws_pd()\n",
    "\n",
    "model_2=CmdStanModel(stan_file='code_2.stan')\n",
    "sim_2=model_2.sample(data={'N': N}, \n",
    "                     iter_sampling=1, \n",
    "                     iter_warmup=0, \n",
    "                     chains=1, \n",
    "                     refresh=1,\n",
    "                     fixed_param=True,\n",
    "                     seed=29042020)\n",
    "df2 = sim_2.draws_pd()"
   ]
  },
  {
   "attachments": {},
   "cell_type": "markdown",
   "metadata": {},
   "source": [
    "## EX 2"
   ]
  },
  {
   "cell_type": "code",
   "execution_count": 21,
   "metadata": {},
   "outputs": [
    {
     "name": "stderr",
     "output_type": "stream",
     "text": [
      "INFO:cmdstanpy:found newer exe file, not recompiling\n",
      "INFO:cmdstanpy:CmdStan start processing\n",
      "chain 1 |\u001b[33m          \u001b[0m| 00:00 Status\n",
      "\u001b[A\n",
      "\n",
      "chain 1 |\u001b[33m▍         \u001b[0m| 00:00 Status\n",
      "\u001b[A\n",
      "\n",
      "\u001b[A\u001b[A\n",
      "chain 1 |\u001b[34m█████▉    \u001b[0m| 00:00 Iteration: 1001 / 2000 [ 50%]  (Sampling)\n",
      "\n",
      "\u001b[A\u001b[A\n",
      "chain 1 |\u001b[34m████████▏ \u001b[0m| 00:00 Iteration: 1500 / 2000 [ 75%]  (Sampling)\n",
      "\n",
      "chain 1 |\u001b[34m█████████▌\u001b[0m| 00:01 Iteration: 1800 / 2000 [ 90%]  (Sampling)\n",
      "\u001b[A\n",
      "\n",
      "chain 1 |\u001b[34m██████████\u001b[0m| 00:01 Sampling completed                       \n",
      "chain 2 |\u001b[34m██████████\u001b[0m| 00:01 Sampling completed                       \n",
      "chain 3 |\u001b[34m██████████\u001b[0m| 00:01 Sampling completed                       \n",
      "chain 4 |\u001b[34m██████████\u001b[0m| 00:01 Sampling completed                       "
     ]
    },
    {
     "name": "stdout",
     "output_type": "stream",
     "text": [
      "                                                                                                                                                                                                                                                                                                                                "
     ]
    },
    {
     "name": "stderr",
     "output_type": "stream",
     "text": [
      "\n",
      "INFO:cmdstanpy:CmdStan done processing.\n"
     ]
    },
    {
     "name": "stdout",
     "output_type": "stream",
     "text": [
      "\n"
     ]
    },
    {
     "name": "stderr",
     "output_type": "stream",
     "text": [
      "INFO:cmdstanpy:found newer exe file, not recompiling\n",
      "INFO:cmdstanpy:CmdStan start processing\n",
      "chain 1 |\u001b[33m          \u001b[0m| 00:00 Status\n",
      "\u001b[A\n",
      "\n",
      "chain 1 |\u001b[33m▉         \u001b[0m| 00:00 Iteration:    1 / 2000 [  0%]  (Warmup)\n",
      "\u001b[A\n",
      "\n",
      "\u001b[A\u001b[A\n",
      "chain 1 |\u001b[33m████      \u001b[0m| 00:00 Iteration:  700 / 2000 [ 35%]  (Warmup)\n",
      "\n",
      "\u001b[A\u001b[A\n",
      "\n",
      "chain 1 |\u001b[34m██████▎   \u001b[0m| 00:00 Iteration: 1100 / 2000 [ 55%]  (Sampling)\n",
      "chain 1 |\u001b[34m███████▋  \u001b[0m| 00:01 Iteration: 1400 / 2000 [ 70%]  (Sampling)\n",
      "\n",
      "\u001b[A\u001b[A\n",
      "chain 1 |\u001b[34m████████▋ \u001b[0m| 00:01 Iteration: 1600 / 2000 [ 80%]  (Sampling)\n",
      "\n",
      "\u001b[A\u001b[A\n",
      "chain 1 |\u001b[34m█████████▌\u001b[0m| 00:02 Iteration: 1800 / 2000 [ 90%]  (Sampling)\n",
      "\n",
      "chain 1 |\u001b[34m██████████\u001b[0m| 00:02 Sampling completed                       \n",
      "chain 2 |\u001b[34m██████████\u001b[0m| 00:02 Sampling completed                       \n",
      "chain 3 |\u001b[34m██████████\u001b[0m| 00:02 Sampling completed                       \n",
      "chain 4 |\u001b[34m██████████\u001b[0m| 00:02 Sampling completed                       "
     ]
    },
    {
     "name": "stdout",
     "output_type": "stream",
     "text": [
      "                                                                                                                                                                                                                                                                                                                                "
     ]
    },
    {
     "name": "stderr",
     "output_type": "stream",
     "text": [
      "\n",
      "INFO:cmdstanpy:CmdStan done processing.\n"
     ]
    },
    {
     "name": "stdout",
     "output_type": "stream",
     "text": [
      "\n"
     ]
    }
   ],
   "source": [
    "model_3=CmdStanModel(stan_file='code_3.stan')\n",
    "sim_3 = model_3.sample(data={'N': N, 'y': df1.iloc[0, 3:] })\n",
    "df3 = sim_3.draws_pd()\n",
    "\n",
    "model_4=CmdStanModel(stan_file='code_4.stan')\n",
    "sim_4 = model_4.sample(data={'N': N, 'y': df1.iloc[0, 3:] })\n",
    "df4 = sim_4.draws_pd()"
   ]
  },
  {
   "cell_type": "code",
   "execution_count": 31,
   "metadata": {},
   "outputs": [
    {
     "name": "stderr",
     "output_type": "stream",
     "text": [
      "/usr/local/lib/python3.9/site-packages/arviz/stats/stats.py:811: UserWarning: Estimated shape parameter of Pareto distribution is greater than 0.7 for one or more samples. You should consider using a more robust model, this is because importance sampling is less likely to work well if the marginal posterior and LOO posterior are very different. This is more likely to happen with a non-robust model and highly influential observations.\n",
      "  warnings.warn(\n"
     ]
    },
    {
     "data": {
      "text/html": [
       "<div>\n",
       "<style scoped>\n",
       "    .dataframe tbody tr th:only-of-type {\n",
       "        vertical-align: middle;\n",
       "    }\n",
       "\n",
       "    .dataframe tbody tr th {\n",
       "        vertical-align: top;\n",
       "    }\n",
       "\n",
       "    .dataframe thead th {\n",
       "        text-align: right;\n",
       "    }\n",
       "</style>\n",
       "<table border=\"1\" class=\"dataframe\">\n",
       "  <thead>\n",
       "    <tr style=\"text-align: right;\">\n",
       "      <th></th>\n",
       "      <th>rank</th>\n",
       "      <th>loo</th>\n",
       "      <th>p_loo</th>\n",
       "      <th>d_loo</th>\n",
       "      <th>weight</th>\n",
       "      <th>se</th>\n",
       "      <th>dse</th>\n",
       "      <th>warning</th>\n",
       "      <th>loo_scale</th>\n",
       "    </tr>\n",
       "  </thead>\n",
       "  <tbody>\n",
       "    <tr>\n",
       "      <th>model 4</th>\n",
       "      <td>0</td>\n",
       "      <td>-1329.324423</td>\n",
       "      <td>4.498154</td>\n",
       "      <td>0.00000</td>\n",
       "      <td>1.0</td>\n",
       "      <td>32.994344</td>\n",
       "      <td>0.000000</td>\n",
       "      <td>False</td>\n",
       "      <td>log</td>\n",
       "    </tr>\n",
       "    <tr>\n",
       "      <th>model 3</th>\n",
       "      <td>1</td>\n",
       "      <td>-1631.312883</td>\n",
       "      <td>31.072142</td>\n",
       "      <td>301.98846</td>\n",
       "      <td>0.0</td>\n",
       "      <td>127.912049</td>\n",
       "      <td>105.499213</td>\n",
       "      <td>True</td>\n",
       "      <td>log</td>\n",
       "    </tr>\n",
       "  </tbody>\n",
       "</table>\n",
       "</div>"
      ],
      "text/plain": [
       "         rank          loo      p_loo      d_loo  weight          se  \\\n",
       "model 4     0 -1329.324423   4.498154    0.00000     1.0   32.994344   \n",
       "model 3     1 -1631.312883  31.072142  301.98846     0.0  127.912049   \n",
       "\n",
       "                dse  warning loo_scale  \n",
       "model 4    0.000000    False       log  \n",
       "model 3  105.499213     True       log  "
      ]
     },
     "execution_count": 31,
     "metadata": {},
     "output_type": "execute_result"
    }
   ],
   "source": [
    "compare_loo = az.compare({'model 3': sim_3, 'model 4': sim_4}, ic='loo')\n",
    "compare_loo"
   ]
  },
  {
   "cell_type": "code",
   "execution_count": 32,
   "metadata": {},
   "outputs": [
    {
     "data": {
      "image/png": "[encoded data removed]",
      "text/plain": [
       "<Figure size 1440x720 with 1 Axes>"
      ]
     },
     "metadata": {
      "needs_background": "light"
     },
     "output_type": "display_data"
    }
   ],
   "source": [
    "az.plot_compare(compare_loo, figsize=(20,10))\n",
    "plt.title(\"Comparison using loo criterion\", size = 25)\n",
    "plt.show()"
   ]
  },
  {
   "cell_type": "code",
   "execution_count": 33,
   "metadata": {},
   "outputs": [
    {
     "name": "stderr",
     "output_type": "stream",
     "text": [
      "/usr/local/lib/python3.9/site-packages/arviz/stats/stats.py:1635: UserWarning: For one or more samples the posterior variance of the log predictive densities exceeds 0.4. This could be indication of WAIC starting to fail. \n",
      "See http://arxiv.org/abs/1507.04544 for details\n",
      "  warnings.warn(\n",
      "/usr/local/lib/python3.9/site-packages/arviz/stats/stats.py:1635: UserWarning: For one or more samples the posterior variance of the log predictive densities exceeds 0.4. This could be indication of WAIC starting to fail. \n",
      "See http://arxiv.org/abs/1507.04544 for details\n",
      "  warnings.warn(\n"
     ]
    },
    {
     "data": {
      "text/html": [
       "<div>\n",
       "<style scoped>\n",
       "    .dataframe tbody tr th:only-of-type {\n",
       "        vertical-align: middle;\n",
       "    }\n",
       "\n",
       "    .dataframe tbody tr th {\n",
       "        vertical-align: top;\n",
       "    }\n",
       "\n",
       "    .dataframe thead th {\n",
       "        text-align: right;\n",
       "    }\n",
       "</style>\n",
       "<table border=\"1\" class=\"dataframe\">\n",
       "  <thead>\n",
       "    <tr style=\"text-align: right;\">\n",
       "      <th></th>\n",
       "      <th>rank</th>\n",
       "      <th>waic</th>\n",
       "      <th>p_waic</th>\n",
       "      <th>d_waic</th>\n",
       "      <th>weight</th>\n",
       "      <th>se</th>\n",
       "      <th>dse</th>\n",
       "      <th>warning</th>\n",
       "      <th>waic_scale</th>\n",
       "    </tr>\n",
       "  </thead>\n",
       "  <tbody>\n",
       "    <tr>\n",
       "      <th>model 4</th>\n",
       "      <td>0</td>\n",
       "      <td>-1329.315116</td>\n",
       "      <td>4.488847</td>\n",
       "      <td>0.000000</td>\n",
       "      <td>1.0</td>\n",
       "      <td>32.991056</td>\n",
       "      <td>0.000000</td>\n",
       "      <td>True</td>\n",
       "      <td>log</td>\n",
       "    </tr>\n",
       "    <tr>\n",
       "      <th>model 3</th>\n",
       "      <td>1</td>\n",
       "      <td>-1633.581483</td>\n",
       "      <td>33.340742</td>\n",
       "      <td>304.266367</td>\n",
       "      <td>0.0</td>\n",
       "      <td>129.190554</td>\n",
       "      <td>106.797392</td>\n",
       "      <td>True</td>\n",
       "      <td>log</td>\n",
       "    </tr>\n",
       "  </tbody>\n",
       "</table>\n",
       "</div>"
      ],
      "text/plain": [
       "         rank         waic     p_waic      d_waic  weight          se  \\\n",
       "model 4     0 -1329.315116   4.488847    0.000000     1.0   32.991056   \n",
       "model 3     1 -1633.581483  33.340742  304.266367     0.0  129.190554   \n",
       "\n",
       "                dse  warning waic_scale  \n",
       "model 4    0.000000     True        log  \n",
       "model 3  106.797392     True        log  "
      ]
     },
     "execution_count": 33,
     "metadata": {},
     "output_type": "execute_result"
    }
   ],
   "source": [
    "compare_waic = az.compare({'model 3': sim_3, 'model 4': sim_4}, ic='waic')\n",
    "compare_waic"
   ]
  },
  {
   "cell_type": "code",
   "execution_count": 34,
   "metadata": {},
   "outputs": [
    {
     "data": {
      "image/png": "[encoded data removed]",
      "text/plain": [
       "<Figure size 1440x720 with 1 Axes>"
      ]
     },
     "metadata": {
      "needs_background": "light"
     },
     "output_type": "display_data"
    }
   ],
   "source": [
    "az.plot_compare(compare_waic, figsize=(20,10))\n",
    "plt.title(\"Comparison using waic criterion\", size=25)\n",
    "plt.show()"
   ]
  },
  {
   "attachments": {},
   "cell_type": "markdown",
   "metadata": {},
   "source": [
    "## EX 3"
   ]
  },
  {
   "cell_type": "code",
   "execution_count": 40,
   "metadata": {},
   "outputs": [
    {
     "name": "stderr",
     "output_type": "stream",
     "text": [
      "INFO:cmdstanpy:found newer exe file, not recompiling\n"
     ]
    }
   ],
   "source": [
    "model_5=CmdStanModel(stan_file='code_5.stan')\n",
    "data1 = {'N': N, 'K': 1, 'y': df2.loc[:, 'y[1]':].values.reshape((N)), 'X': df2.loc[:, 'X[1,1]': f'X[{N},1]'].values.reshape((N, 1))}\n",
    "data2 = {'N': N, 'K': 2, 'y': df2.loc[:, 'y[1]':].values.reshape((N)), 'X': df2.loc[:, 'X[1,1]': f'X[{N},2]'].values.reshape((N, 2))}\n",
    "data3 = {'N': N, 'K': 3, 'y': df2.loc[:, 'y[1]':].values.reshape((N)), 'X': df2.loc[:, 'X[1,1]': f'X[{N},3]'].values.reshape((N, 3))}\n",
    "\n"
   ]
  },
  {
   "cell_type": "code",
   "execution_count": 41,
   "metadata": {},
   "outputs": [
    {
     "name": "stderr",
     "output_type": "stream",
     "text": [
      "INFO:cmdstanpy:CmdStan start processing\n",
      "chain 1 |\u001b[33m          \u001b[0m| 00:00 Status\n",
      "\u001b[A\n",
      "\n",
      "\u001b[A\u001b[A\n",
      "chain 1 |\u001b[33m▍         \u001b[0m| 00:00 Status\n",
      "\n",
      "\u001b[A\u001b[A\n",
      "\u001b[A\n",
      "\n",
      "chain 1 |\u001b[33m██▋       \u001b[0m| 00:00 Iteration:  400 / 2000 [ 20%]  (Warmup)\n",
      "\n",
      "chain 1 |\u001b[34m█████▉    \u001b[0m| 00:00 Iteration: 1001 / 2000 [ 50%]  (Sampling)\n",
      "chain 1 |\u001b[34m███████▎  \u001b[0m| 00:00 Iteration: 1300 / 2000 [ 65%]  (Sampling)\n",
      "\u001b[A\n",
      "\n",
      "chain 1 |\u001b[34m████████▋ \u001b[0m| 00:01 Iteration: 1600 / 2000 [ 80%]  (Sampling)\n",
      "\u001b[A\n",
      "\n",
      "chain 1 |\u001b[34m█████████▌\u001b[0m| 00:01 Iteration: 1800 / 2000 [ 90%]  (Sampling)\n",
      "\u001b[A\n",
      "\n",
      "chain 1 |\u001b[34m██████████\u001b[0m| 00:02 Sampling completed                       \n",
      "chain 2 |\u001b[34m██████████\u001b[0m| 00:02 Sampling completed                       \n",
      "chain 3 |\u001b[34m██████████\u001b[0m| 00:02 Sampling completed                       \n",
      "chain 4 |\u001b[34m██████████\u001b[0m| 00:02 Sampling completed                       "
     ]
    },
    {
     "name": "stdout",
     "output_type": "stream",
     "text": [
      "                                                                                                                                                                                                                                                                                                                                "
     ]
    },
    {
     "name": "stderr",
     "output_type": "stream",
     "text": [
      "\n",
      "INFO:cmdstanpy:CmdStan done processing.\n"
     ]
    },
    {
     "name": "stdout",
     "output_type": "stream",
     "text": [
      "\n"
     ]
    }
   ],
   "source": [
    "sim_5_1 = model_5.sample(data=data1)"
   ]
  },
  {
   "cell_type": "code",
   "execution_count": 42,
   "metadata": {},
   "outputs": [
    {
     "name": "stderr",
     "output_type": "stream",
     "text": [
      "INFO:cmdstanpy:CmdStan start processing\n",
      "chain 1 |\u001b[33m          \u001b[0m| 00:00 Status\n",
      "\u001b[A\n",
      "\n",
      "chain 1 |\u001b[33m▍         \u001b[0m| 00:00 Status\n",
      "\u001b[A\n",
      "\n",
      "chain 1 |\u001b[33m█▊        \u001b[0m| 00:00 Iteration:  200 / 2000 [ 10%]  (Warmup)\n",
      "\u001b[A\n",
      "\n",
      "\u001b[A\u001b[A\n",
      "chain 1 |\u001b[33m███▋      \u001b[0m| 00:00 Iteration:  600 / 2000 [ 30%]  (Warmup)\n",
      "\n",
      "\u001b[A\u001b[A\n",
      "chain 1 |\u001b[34m█████▉    \u001b[0m| 00:00 Iteration: 1001 / 2000 [ 50%]  (Sampling)\n",
      "\n",
      "chain 1 |\u001b[34m███████▎  \u001b[0m| 00:01 Iteration: 1300 / 2000 [ 65%]  (Sampling)\n",
      "\u001b[A\n",
      "\n",
      "chain 1 |\u001b[34m████████▏ \u001b[0m| 00:01 Iteration: 1500 / 2000 [ 75%]  (Sampling)\n",
      "\u001b[A\n",
      "\n",
      "chain 1 |\u001b[34m█████████ \u001b[0m| 00:01 Iteration: 1700 / 2000 [ 85%]  (Sampling)\n",
      "\u001b[A\n",
      "\n",
      "chain 1 |\u001b[34m██████████\u001b[0m| 00:02 Iteration: 1900 / 2000 [ 95%]  (Sampling)\n",
      "chain 1 |\u001b[34m██████████\u001b[0m| 00:02 Sampling completed                       \n",
      "chain 2 |\u001b[34m██████████\u001b[0m| 00:02 Sampling completed                       \n",
      "chain 3 |\u001b[34m██████████\u001b[0m| 00:02 Sampling completed                       \n",
      "chain 4 |\u001b[34m██████████\u001b[0m| 00:02 Sampling completed                       "
     ]
    },
    {
     "name": "stdout",
     "output_type": "stream",
     "text": [
      "                                                                                                                                                                                                                                                                                                                                "
     ]
    },
    {
     "name": "stderr",
     "output_type": "stream",
     "text": [
      "\n",
      "INFO:cmdstanpy:CmdStan done processing.\n"
     ]
    },
    {
     "name": "stdout",
     "output_type": "stream",
     "text": [
      "\n"
     ]
    }
   ],
   "source": [
    "sim_5_2 = model_5.sample(data=data2)"
   ]
  },
  {
   "cell_type": "code",
   "execution_count": 43,
   "metadata": {},
   "outputs": [
    {
     "name": "stderr",
     "output_type": "stream",
     "text": [
      "INFO:cmdstanpy:CmdStan start processing\n",
      "chain 1 |\u001b[33m          \u001b[0m| 00:00 Status\n",
      "\u001b[A\n",
      "\n",
      "\u001b[A\u001b[A\n",
      "chain 1 |\u001b[33m▍         \u001b[0m| 00:00 Status\n",
      "\n",
      "\u001b[A\u001b[A\n",
      "chain 1 |\u001b[33m█▊        \u001b[0m| 00:00 Iteration:  200 / 2000 [ 10%]  (Warmup)\n",
      "\n",
      "chain 1 |\u001b[33m███▋      \u001b[0m| 00:00 Iteration:  600 / 2000 [ 30%]  (Warmup)\n",
      "\u001b[A\n",
      "\n",
      "chain 1 |\u001b[34m█████▉    \u001b[0m| 00:00 Iteration: 1001 / 2000 [ 50%]  (Sampling)\n",
      "\n",
      "\u001b[A\u001b[A\n",
      "\u001b[A\n",
      "\n",
      "chain 1 |\u001b[34m███████▎  \u001b[0m| 00:01 Iteration: 1300 / 2000 [ 65%]  (Sampling)\n",
      "\u001b[A\n",
      "\n",
      "chain 1 |\u001b[34m████████▏ \u001b[0m| 00:01 Iteration: 1500 / 2000 [ 75%]  (Sampling)\n",
      "\u001b[A\n",
      "\n",
      "chain 1 |\u001b[34m█████████ \u001b[0m| 00:02 Iteration: 1700 / 2000 [ 85%]  (Sampling)\n",
      "chain 1 |\u001b[34m██████████\u001b[0m| 00:02 Iteration: 1900 / 2000 [ 95%]  (Sampling)\n",
      "\n",
      "\u001b[A\u001b[A\n",
      "chain 1 |\u001b[34m██████████\u001b[0m| 00:02 Sampling completed                       \n",
      "chain 2 |\u001b[34m██████████\u001b[0m| 00:02 Sampling completed                       \n",
      "chain 3 |\u001b[34m██████████\u001b[0m| 00:02 Sampling completed                       \n",
      "chain 4 |\u001b[34m██████████\u001b[0m| 00:02 Sampling completed                       "
     ]
    },
    {
     "name": "stdout",
     "output_type": "stream",
     "text": [
      "                                                                                                                                                                                                                                                                                                                                "
     ]
    },
    {
     "name": "stderr",
     "output_type": "stream",
     "text": [
      "\n",
      "INFO:cmdstanpy:CmdStan done processing.\n"
     ]
    },
    {
     "name": "stdout",
     "output_type": "stream",
     "text": [
      "\n"
     ]
    }
   ],
   "source": [
    "sim_5_3 = model_5.sample(data=data3)"
   ]
  },
  {
   "cell_type": "code",
   "execution_count": 45,
   "metadata": {},
   "outputs": [
    {
     "data": {
      "text/html": [
       "<div>\n",
       "<style scoped>\n",
       "    .dataframe tbody tr th:only-of-type {\n",
       "        vertical-align: middle;\n",
       "    }\n",
       "\n",
       "    .dataframe tbody tr th {\n",
       "        vertical-align: top;\n",
       "    }\n",
       "\n",
       "    .dataframe thead th {\n",
       "        text-align: right;\n",
       "    }\n",
       "</style>\n",
       "<table border=\"1\" class=\"dataframe\">\n",
       "  <thead>\n",
       "    <tr style=\"text-align: right;\">\n",
       "      <th></th>\n",
       "      <th>rank</th>\n",
       "      <th>loo</th>\n",
       "      <th>p_loo</th>\n",
       "      <th>d_loo</th>\n",
       "      <th>weight</th>\n",
       "      <th>se</th>\n",
       "      <th>dse</th>\n",
       "      <th>warning</th>\n",
       "      <th>loo_scale</th>\n",
       "    </tr>\n",
       "  </thead>\n",
       "  <tbody>\n",
       "    <tr>\n",
       "      <th>model 5_1</th>\n",
       "      <td>0</td>\n",
       "      <td>-1646.854241</td>\n",
       "      <td>2.121292</td>\n",
       "      <td>0.000000</td>\n",
       "      <td>1.000000e+00</td>\n",
       "      <td>20.609571</td>\n",
       "      <td>0.000000</td>\n",
       "      <td>False</td>\n",
       "      <td>log</td>\n",
       "    </tr>\n",
       "    <tr>\n",
       "      <th>model 5_2</th>\n",
       "      <td>1</td>\n",
       "      <td>-2101.096107</td>\n",
       "      <td>3.154957</td>\n",
       "      <td>454.241866</td>\n",
       "      <td>4.106104e-12</td>\n",
       "      <td>20.885023</td>\n",
       "      <td>24.046030</td>\n",
       "      <td>False</td>\n",
       "      <td>log</td>\n",
       "    </tr>\n",
       "    <tr>\n",
       "      <th>model 5_3</th>\n",
       "      <td>2</td>\n",
       "      <td>-2101.142455</td>\n",
       "      <td>4.104299</td>\n",
       "      <td>454.288214</td>\n",
       "      <td>2.309459e-09</td>\n",
       "      <td>21.072697</td>\n",
       "      <td>24.247764</td>\n",
       "      <td>False</td>\n",
       "      <td>log</td>\n",
       "    </tr>\n",
       "  </tbody>\n",
       "</table>\n",
       "</div>"
      ],
      "text/plain": [
       "           rank          loo     p_loo       d_loo        weight         se  \\\n",
       "model 5_1     0 -1646.854241  2.121292    0.000000  1.000000e+00  20.609571   \n",
       "model 5_2     1 -2101.096107  3.154957  454.241866  4.106104e-12  20.885023   \n",
       "model 5_3     2 -2101.142455  4.104299  454.288214  2.309459e-09  21.072697   \n",
       "\n",
       "                 dse  warning loo_scale  \n",
       "model 5_1   0.000000    False       log  \n",
       "model 5_2  24.046030    False       log  \n",
       "model 5_3  24.247764    False       log  "
      ]
     },
     "execution_count": 45,
     "metadata": {},
     "output_type": "execute_result"
    }
   ],
   "source": [
    "compare_loo_5 = az.compare({'model 5_1': sim_5_1, 'model 5_2': sim_5_2, 'model 5_3': sim_5_3}, ic='loo')\n",
    "compare_loo_5"
   ]
  },
  {
   "cell_type": "code",
   "execution_count": 46,
   "metadata": {},
   "outputs": [
    {
     "data": {
      "image/png": "[encoded data removed]",
      "text/plain": [
       "<Figure size 1440x720 with 1 Axes>"
      ]
     },
     "metadata": {
      "needs_background": "light"
     },
     "output_type": "display_data"
    }
   ],
   "source": [
    "az.plot_compare(compare_loo_5, figsize=(20,10))\n",
    "plt.title(\"Comparison using loo criterion\", size = 25)\n",
    "plt.show()"
   ]
  },
  {
   "cell_type": "code",
   "execution_count": 47,
   "metadata": {},
   "outputs": [
    {
     "data": {
      "text/html": [
       "<div>\n",
       "<style scoped>\n",
       "    .dataframe tbody tr th:only-of-type {\n",
       "        vertical-align: middle;\n",
       "    }\n",
       "\n",
       "    .dataframe tbody tr th {\n",
       "        vertical-align: top;\n",
       "    }\n",
       "\n",
       "    .dataframe thead th {\n",
       "        text-align: right;\n",
       "    }\n",
       "</style>\n",
       "<table border=\"1\" class=\"dataframe\">\n",
       "  <thead>\n",
       "    <tr style=\"text-align: right;\">\n",
       "      <th></th>\n",
       "      <th>rank</th>\n",
       "      <th>waic</th>\n",
       "      <th>p_waic</th>\n",
       "      <th>d_waic</th>\n",
       "      <th>weight</th>\n",
       "      <th>se</th>\n",
       "      <th>dse</th>\n",
       "      <th>warning</th>\n",
       "      <th>waic_scale</th>\n",
       "    </tr>\n",
       "  </thead>\n",
       "  <tbody>\n",
       "    <tr>\n",
       "      <th>model 5_1</th>\n",
       "      <td>0</td>\n",
       "      <td>-1646.854027</td>\n",
       "      <td>2.121078</td>\n",
       "      <td>0.000000</td>\n",
       "      <td>1.0</td>\n",
       "      <td>20.609552</td>\n",
       "      <td>0.000000</td>\n",
       "      <td>False</td>\n",
       "      <td>log</td>\n",
       "    </tr>\n",
       "    <tr>\n",
       "      <th>model 5_2</th>\n",
       "      <td>1</td>\n",
       "      <td>-2101.095412</td>\n",
       "      <td>3.154262</td>\n",
       "      <td>454.241385</td>\n",
       "      <td>0.0</td>\n",
       "      <td>20.884931</td>\n",
       "      <td>24.046000</td>\n",
       "      <td>False</td>\n",
       "      <td>log</td>\n",
       "    </tr>\n",
       "    <tr>\n",
       "      <th>model 5_3</th>\n",
       "      <td>2</td>\n",
       "      <td>-2101.142614</td>\n",
       "      <td>4.104457</td>\n",
       "      <td>454.288586</td>\n",
       "      <td>0.0</td>\n",
       "      <td>21.072717</td>\n",
       "      <td>24.247768</td>\n",
       "      <td>False</td>\n",
       "      <td>log</td>\n",
       "    </tr>\n",
       "  </tbody>\n",
       "</table>\n",
       "</div>"
      ],
      "text/plain": [
       "           rank         waic    p_waic      d_waic  weight         se  \\\n",
       "model 5_1     0 -1646.854027  2.121078    0.000000     1.0  20.609552   \n",
       "model 5_2     1 -2101.095412  3.154262  454.241385     0.0  20.884931   \n",
       "model 5_3     2 -2101.142614  4.104457  454.288586     0.0  21.072717   \n",
       "\n",
       "                 dse  warning waic_scale  \n",
       "model 5_1   0.000000    False        log  \n",
       "model 5_2  24.046000    False        log  \n",
       "model 5_3  24.247768    False        log  "
      ]
     },
     "execution_count": 47,
     "metadata": {},
     "output_type": "execute_result"
    }
   ],
   "source": [
    "compare_waic_5 = az.compare({'model 5_1': sim_5_1, 'model 5_2': sim_5_2, 'model 5_3': sim_5_3}, ic='waic')\n",
    "compare_waic_5"
   ]
  },
  {
   "cell_type": "code",
   "execution_count": 48,
   "metadata": {},
   "outputs": [
    {
     "data": {
      "image/png": "[encoded data removed]",
      "text/plain": [
       "<Figure size 1440x720 with 1 Axes>"
      ]
     },
     "metadata": {
      "needs_background": "light"
     },
     "output_type": "display_data"
    }
   ],
   "source": [
    "az.plot_compare(compare_waic_5, figsize=(20,10))\n",
    "plt.title(\"Comparison using waic criterion\", size=25)\n",
    "plt.show()"
   ]
  }
 ],
 "metadata": {
  "kernelspec": {
   "display_name": "Python 3",
   "language": "python",
   "name": "python3"
  },
  "language_info": {
   "codemirror_mode": {
    "name": "ipython",
    "version": 3
   },
   "file_extension": ".py",
   "mimetype": "text/x-python",
   "name": "python",
   "nbconvert_exporter": "python",
   "pygments_lexer": "ipython3",
   "version": "3.9.11"
  },
  "orig_nbformat": 4
 },
 "nbformat": 4,
 "nbformat_minor": 2
}
